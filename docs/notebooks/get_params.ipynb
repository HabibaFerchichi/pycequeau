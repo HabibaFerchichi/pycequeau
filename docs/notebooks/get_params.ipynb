{
  "cells": [
    {
      "attachments": {},
      "cell_type": "markdown",
      "metadata": {},
      "source": [
        "# Get parameters structure #"
      ]
    },
    {
      "cell_type": "code",
      "execution_count": 1,
      "metadata": {},
      "outputs": [],
      "source": [
        "import sys\n",
        "import os\n",
        "pwd = os.getcwd()\n",
        "two_levels_down = os.path.abspath(os.path.join(pwd, '..','..',))\n",
        "sys.path.append(two_levels_down)\n",
        "from src.physiographic.base import Basin\n",
        "from src.simulations.parameters import Parameters\n",
        "from src.simulations._param_examples import send_values_test\n",
        "import os\n",
        "import json"
      ]
    },
    {
      "cell_type": "code",
      "execution_count": 2,
      "metadata": {},
      "outputs": [
        {
          "name": "stderr",
          "output_type": "stream",
          "text": [
            "c:\\Users\\Owner\\anaconda3\\envs\\pycequeau\\lib\\site-packages\\geopandas\\io\\file.py:299: FutureWarning: pandas.Int64Index is deprecated and will be removed from pandas in a future version. Use pandas.Index with the appropriate dtype instead.\n",
            "  pd.Int64Index,\n"
          ]
        }
      ],
      "source": [
        "# Create the project folder structure.\n",
        "# 1- Select folder\n",
        "project_folder = \"path/to/your/project/\"\n",
        "files_list = [\"DEM_grass.tif\",\n",
        "                \"FAC_grass.tif\",\n",
        "                \"LC_grass.tif\",\n",
        "                \"Watershed_grass.tif\",\n",
        "                \"CAT_grass.tif\",\n",
        "                \"WaterBodies.shp\",\n",
        "                \"Lakes_new.shp\"]\n",
        "\n",
        "bassinVersant_file = os.path.join(project_folder,\n",
        "                                    \"results\",\n",
        "                                    \"bassinVersant.json\")\n",
        "# 4- Create basin Object:\n",
        "basin = Basin(project_folder,\n",
        "                \"Meleze\",\n",
        "                files_list,\n",
        "                bassinVersant_file)\n",
        "basin.set_dimensions(7500, 7500)\n",
        "# 5- Create parameter object\n",
        "params = Parameters(basin)\n",
        "# Compute Jonei and Joeva\n",
        "params.day_max_insolation(\"meteo_cequeau.nc\")\n",
        "# This function will create the file streams_cequeau.shp in the geographic folder.\n",
        "params.create_cequeau_stream_network()\n",
        "# 6- retrieve the example parameter values to populate the structure\n",
        "flow_parameters, evapo_parameters, initial_conditions, snow_parameters, simulation_options, transferts, temperature_params = send_values_test()\n",
        "# 7- set the different parameter values\n",
        "params.set_sol(flow_parameters)\n",
        "params.set_solinitial(initial_conditions)\n",
        "params.set_transfert(transferts)\n",
        "params.set_option(simulation_options)\n",
        "params.set_fonte(snow_parameters, 1)\n",
        "params.set_evapo(evapo_parameters, 1)\n",
        "params.set_qualite(temperature_params)\n",
        "# 8- Create the parameter structure\n",
        "params.create_parameter_structure()"
      ]
    },
    {
      "cell_type": "code",
      "execution_count": 3,
      "metadata": {},
      "outputs": [
        {
          "data": {
            "text/plain": [
              "{'ipassim': 24,\n",
              " 'moduleFonte': 1,\n",
              " 'moduleEvapo': 1,\n",
              " 'calculQualite': 0,\n",
              " 'jonei': 120,\n",
              " 'joeva': 120}"
            ]
          },
          "execution_count": 3,
          "metadata": {},
          "output_type": "execute_result"
        }
      ],
      "source": [
        "params.parametres[\"option\"]"
      ]
    },
    {
      "cell_type": "code",
      "execution_count": 4,
      "metadata": {},
      "outputs": [
        {
          "data": {
            "text/plain": [
              "{'cin_s': 0.4,\n",
              " 'cvmar': 0.5036,\n",
              " 'cvnb_s': 0.0156,\n",
              " 'cvnh_s': 0.17382,\n",
              " 'cvsb': 0.102233,\n",
              " 'cvsi_s': 0.44716,\n",
              " 'xinfma': 9.5775,\n",
              " 'hinf_s': 11.718,\n",
              " 'hint_s': 107.4,\n",
              " 'hmar': 370.77,\n",
              " 'hnap_s': 94.943,\n",
              " 'hpot_s': 77.008,\n",
              " 'hsol_s': 181.18,\n",
              " 'hrimp_s': 5.0666,\n",
              " 'tri_s': 0,\n",
              " 'xla': 5681}"
            ]
          },
          "execution_count": 4,
          "metadata": {},
          "output_type": "execute_result"
        }
      ],
      "source": [
        "params.parametres[\"sol\"]"
      ]
    },
    {
      "cell_type": "code",
      "execution_count": 5,
      "metadata": {},
      "outputs": [
        {
          "data": {
            "text/plain": [
              "{'cequeau': {'strne_s': -0.8285,\n",
              "  'tfc_s': 8.6557,\n",
              "  'tfd_s': 6.3987,\n",
              "  'tsc_s': -1.8379,\n",
              "  'tsd_s': -0.22692,\n",
              "  'ttd': 2.8166,\n",
              "  'tts_s': 0.45228,\n",
              "  'jonei': 120,\n",
              "  'tmur': 0.0,\n",
              "  'tstock': 0.0}}"
            ]
          },
          "execution_count": 5,
          "metadata": {},
          "output_type": "execute_result"
        }
      ],
      "source": [
        "params.parametres[\"fonte\"]"
      ]
    }
  ],
  "metadata": {
    "kernelspec": {
      "display_name": "py37",
      "language": "python",
      "name": "python3"
    },
    "language_info": {
      "codemirror_mode": {
        "name": "ipython",
        "version": 3
      },
      "file_extension": ".py",
      "mimetype": "text/x-python",
      "name": "python",
      "nbconvert_exporter": "python",
      "pygments_lexer": "ipython3",
      "version": "3.8.18"
    },
    "orig_nbformat": 4
  },
  "nbformat": 4,
  "nbformat_minor": 2
}
