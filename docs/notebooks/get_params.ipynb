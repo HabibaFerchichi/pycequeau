{
  "cells": [
    {
      "attachments": {},
      "cell_type": "markdown",
      "metadata": {},
      "source": [
        "# Get parameters structure #"
      ]
    },
    {
      "cell_type": "code",
      "execution_count": 1,
      "metadata": {},
      "outputs": [],
      "source": [
        "import sys\n",
        "sys.path.append('../../../src')\n",
        "from src.physiographic.base import Basin\n",
        "from src.simulations.parameters import Parameters\n",
        "from src.simulations._param_examples import send_values_test\n",
        "import os\n",
        "import json\n"
      ]
    },
    {
      "cell_type": "code",
      "execution_count": 2,
      "metadata": {},
      "outputs": [],
      "source": [
        "# Create the project folder structure.\n",
        "# 1- Select folder where the meteo data is stored\n",
        "project_folder = \"path/to/your/project/\"\n",
        "# 2- Select the bassinVersant json file for this basin\n",
        "bassinVersant_file = \"path/to/your/project/bassinVersant.json\"\n",
        "# 3- File list with all the raster and shapes\n",
        "files_list = [\"DEM.tif\",  # DEM file\n",
        "              \"FAC.tif\",  # Flow accumulation file\n",
        "              \"LC.tif\",  # Land cover file\n",
        "              \"Watershed.shp\",  # Watershed shp file\n",
        "              \"CAT.shp\",  # Sub basins shp file\n",
        "              \"WaterBodies.shp\",  # Waterbodies as shp file\n",
        "              \"Wetlands.shp\"]  # Wetlands locations as shp file\n",
        "# 4- Create basin Object:\n",
        "basin = Basin(project_folder,\n",
        "                \"Melezes\",\n",
        "                files_list,\n",
        "                bassinVersant_file)\n",
        "# 5- Create parameter object\n",
        "params = Parameters(basin)\n",
        "# 6- retrieve the example parameter values to populate the structure\n",
        "flow_parameters, evapo_parameters, initial_conditions, snow_parameters, simulation_options, transferts, temperature_params = send_values_test()\n",
        "# 7- set the different parameter values\n",
        "params.set_sol(flow_parameters)\n",
        "params.set_solinitial(initial_conditions)\n",
        "params.set_transfert(transferts)\n",
        "params.set_option(simulation_options)\n",
        "params.set_fonte(snow_parameters,1)\n",
        "params.set_evapo(evapo_parameters,1)\n",
        "params.set_qualite(temperature_params)\n",
        "# 8- Create the parameter structure\n",
        "params.create_parameter_structure()"
      ]
    },
    {
      "cell_type": "code",
      "execution_count": 6,
      "metadata": {},
      "outputs": [
        {
          "data": {
            "text/plain": [
              "{'ipassim': 24,\n",
              " 'moduleFonte': 1,\n",
              " 'moduleEvapo': 1,\n",
              " 'calculQualite': 0,\n",
              " 'jonei': 80,\n",
              " 'joeva': 80}"
            ]
          },
          "execution_count": 6,
          "metadata": {},
          "output_type": "execute_result"
        }
      ],
      "source": [
        "params.parametres[\"option\"]"
      ]
    },
    {
      "cell_type": "code",
      "execution_count": 7,
      "metadata": {},
      "outputs": [
        {
          "data": {
            "text/plain": [
              "{'cin_s': 0.6845999956130981,\n",
              " 'cvmar': 0.996999979019165,\n",
              " 'cvnb_s': 0.1128000020980835,\n",
              " 'cvnh_s': 0.010999999940395355,\n",
              " 'cvsb': 0.009999999776482582,\n",
              " 'cvsi_s': 0.225600004196167,\n",
              " 'xinfma': 40.0,\n",
              " 'hinf_s': 85.49099731445312,\n",
              " 'hint_s': 40.03499984741211,\n",
              " 'hmar': 346.9100036621094,\n",
              " 'hnap_s': 100.0199966430664,\n",
              " 'hpot_s': 110.62000274658203,\n",
              " 'hsol_s': 56.75,\n",
              " 'hrimp_s': 10.0,\n",
              " 'tri_s': 0.0,\n",
              " 'xla': 5682}"
            ]
          },
          "execution_count": 7,
          "metadata": {},
          "output_type": "execute_result"
        }
      ],
      "source": [
        "params.parametres[\"sol\"]"
      ]
    },
    {
      "cell_type": "code",
      "execution_count": 8,
      "metadata": {},
      "outputs": [
        {
          "data": {
            "text/plain": [
              "{'cequeau': {'strne_s': -0.17000000178813934,\n",
              "  'tfc_s': 4.0,\n",
              "  'tfd_s': 4.760000228881836,\n",
              "  'tsc_s': -1.399999976158142,\n",
              "  'tsd_s': -0.18000000715255737,\n",
              "  'ttd': -1.059999942779541,\n",
              "  'tts_s': -2.5399999618530273,\n",
              "  'jonei': 80,\n",
              "  'tmur': 0.0,\n",
              "  'tstock': 0.0}}"
            ]
          },
          "execution_count": 8,
          "metadata": {},
          "output_type": "execute_result"
        }
      ],
      "source": [
        "params.parametres[\"fonte\"]"
      ]
    }
  ],
  "metadata": {
    "kernelspec": {
      "display_name": "py37",
      "language": "python",
      "name": "python3"
    },
    "language_info": {
      "codemirror_mode": {
        "name": "ipython",
        "version": 3
      },
      "file_extension": ".py",
      "mimetype": "text/x-python",
      "name": "python",
      "nbconvert_exporter": "python",
      "pygments_lexer": "ipython3",
      "version": "3.7.12"
    },
    "orig_nbformat": 4
  },
  "nbformat": 4,
  "nbformat_minor": 2
}
